{
 "cells": [
  {
   "cell_type": "markdown",
   "metadata": {},
   "source": [
    "                                                                                                    Michael Gonzalez\n",
    "                                                                                                    Summer 2019\n",
    "                                                                                                    DSC 530"
   ]
  },
  {
   "cell_type": "markdown",
   "metadata": {},
   "source": [
    "# DSC530 Final Term Project"
   ]
  },
  {
   "cell_type": "code",
   "execution_count": 146,
   "metadata": {},
   "outputs": [],
   "source": [
    "from __future__ import print_function, division\n",
    "%matplotlib inline\n",
    "import matplotlib\n",
    "import numpy as np\n",
    "import pandas as pd\n",
    "import random\n",
    "import thinkstats2\n",
    "import thinkplot\n",
    "import scipy.stats\n",
    "import seaborn"
   ]
  },
  {
   "cell_type": "markdown",
   "metadata": {},
   "source": [
    "## Import and Examine 1980's Boston Housing Data\n",
    "\n",
    "This will read from the CSV file into the pandas dataframe. It will show the top and bottom 10 rows of the housing dataframe. "
   ]
  },
  {
   "cell_type": "code",
   "execution_count": 147,
   "metadata": {},
   "outputs": [],
   "source": [
    "housing = pd.read_csv('80strain.csv')"
   ]
  },
  {
   "cell_type": "code",
   "execution_count": 148,
   "metadata": {},
   "outputs": [
    {
     "data": {
      "text/html": [
       "<div>\n",
       "<style scoped>\n",
       "    .dataframe tbody tr th:only-of-type {\n",
       "        vertical-align: middle;\n",
       "    }\n",
       "\n",
       "    .dataframe tbody tr th {\n",
       "        vertical-align: top;\n",
       "    }\n",
       "\n",
       "    .dataframe thead th {\n",
       "        text-align: right;\n",
       "    }\n",
       "</style>\n",
       "<table border=\"1\" class=\"dataframe\">\n",
       "  <thead>\n",
       "    <tr style=\"text-align: right;\">\n",
       "      <th></th>\n",
       "      <th>ID</th>\n",
       "      <th>crimerate</th>\n",
       "      <th>pctbiglots</th>\n",
       "      <th>pctindustrialized</th>\n",
       "      <th>riverboolean</th>\n",
       "      <th>pollution</th>\n",
       "      <th>roomsperhouse</th>\n",
       "      <th>pctbuiltbefore1940</th>\n",
       "      <th>distancetowork</th>\n",
       "      <th>highwayaccess</th>\n",
       "      <th>proptaxper10k</th>\n",
       "      <th>puilteachratio</th>\n",
       "      <th>black</th>\n",
       "      <th>lowerstatuspop</th>\n",
       "      <th>medianvalue</th>\n",
       "    </tr>\n",
       "  </thead>\n",
       "  <tbody>\n",
       "    <tr>\n",
       "      <th>0</th>\n",
       "      <td>1</td>\n",
       "      <td>0.00632</td>\n",
       "      <td>18.0</td>\n",
       "      <td>2.31</td>\n",
       "      <td>0</td>\n",
       "      <td>0.538</td>\n",
       "      <td>6.575</td>\n",
       "      <td>65.2</td>\n",
       "      <td>4.0900</td>\n",
       "      <td>1</td>\n",
       "      <td>296</td>\n",
       "      <td>15.3</td>\n",
       "      <td>396.90</td>\n",
       "      <td>4.98</td>\n",
       "      <td>24.0</td>\n",
       "    </tr>\n",
       "    <tr>\n",
       "      <th>1</th>\n",
       "      <td>2</td>\n",
       "      <td>0.02731</td>\n",
       "      <td>0.0</td>\n",
       "      <td>7.07</td>\n",
       "      <td>0</td>\n",
       "      <td>0.469</td>\n",
       "      <td>6.421</td>\n",
       "      <td>78.9</td>\n",
       "      <td>4.9671</td>\n",
       "      <td>2</td>\n",
       "      <td>242</td>\n",
       "      <td>17.8</td>\n",
       "      <td>396.90</td>\n",
       "      <td>9.14</td>\n",
       "      <td>21.6</td>\n",
       "    </tr>\n",
       "    <tr>\n",
       "      <th>2</th>\n",
       "      <td>4</td>\n",
       "      <td>0.03237</td>\n",
       "      <td>0.0</td>\n",
       "      <td>2.18</td>\n",
       "      <td>0</td>\n",
       "      <td>0.458</td>\n",
       "      <td>6.998</td>\n",
       "      <td>45.8</td>\n",
       "      <td>6.0622</td>\n",
       "      <td>3</td>\n",
       "      <td>222</td>\n",
       "      <td>18.7</td>\n",
       "      <td>394.63</td>\n",
       "      <td>2.94</td>\n",
       "      <td>33.4</td>\n",
       "    </tr>\n",
       "    <tr>\n",
       "      <th>3</th>\n",
       "      <td>5</td>\n",
       "      <td>0.06905</td>\n",
       "      <td>0.0</td>\n",
       "      <td>2.18</td>\n",
       "      <td>0</td>\n",
       "      <td>0.458</td>\n",
       "      <td>7.147</td>\n",
       "      <td>54.2</td>\n",
       "      <td>6.0622</td>\n",
       "      <td>3</td>\n",
       "      <td>222</td>\n",
       "      <td>18.7</td>\n",
       "      <td>396.90</td>\n",
       "      <td>5.33</td>\n",
       "      <td>36.2</td>\n",
       "    </tr>\n",
       "    <tr>\n",
       "      <th>4</th>\n",
       "      <td>7</td>\n",
       "      <td>0.08829</td>\n",
       "      <td>12.5</td>\n",
       "      <td>7.87</td>\n",
       "      <td>0</td>\n",
       "      <td>0.524</td>\n",
       "      <td>6.012</td>\n",
       "      <td>66.6</td>\n",
       "      <td>5.5605</td>\n",
       "      <td>5</td>\n",
       "      <td>311</td>\n",
       "      <td>15.2</td>\n",
       "      <td>395.60</td>\n",
       "      <td>12.43</td>\n",
       "      <td>22.9</td>\n",
       "    </tr>\n",
       "    <tr>\n",
       "      <th>5</th>\n",
       "      <td>11</td>\n",
       "      <td>0.22489</td>\n",
       "      <td>12.5</td>\n",
       "      <td>7.87</td>\n",
       "      <td>0</td>\n",
       "      <td>0.524</td>\n",
       "      <td>6.377</td>\n",
       "      <td>94.3</td>\n",
       "      <td>6.3467</td>\n",
       "      <td>5</td>\n",
       "      <td>311</td>\n",
       "      <td>15.2</td>\n",
       "      <td>392.52</td>\n",
       "      <td>20.45</td>\n",
       "      <td>15.0</td>\n",
       "    </tr>\n",
       "    <tr>\n",
       "      <th>6</th>\n",
       "      <td>12</td>\n",
       "      <td>0.11747</td>\n",
       "      <td>12.5</td>\n",
       "      <td>7.87</td>\n",
       "      <td>0</td>\n",
       "      <td>0.524</td>\n",
       "      <td>6.009</td>\n",
       "      <td>82.9</td>\n",
       "      <td>6.2267</td>\n",
       "      <td>5</td>\n",
       "      <td>311</td>\n",
       "      <td>15.2</td>\n",
       "      <td>396.90</td>\n",
       "      <td>13.27</td>\n",
       "      <td>18.9</td>\n",
       "    </tr>\n",
       "    <tr>\n",
       "      <th>7</th>\n",
       "      <td>13</td>\n",
       "      <td>0.09378</td>\n",
       "      <td>12.5</td>\n",
       "      <td>7.87</td>\n",
       "      <td>0</td>\n",
       "      <td>0.524</td>\n",
       "      <td>5.889</td>\n",
       "      <td>39.0</td>\n",
       "      <td>5.4509</td>\n",
       "      <td>5</td>\n",
       "      <td>311</td>\n",
       "      <td>15.2</td>\n",
       "      <td>390.50</td>\n",
       "      <td>15.71</td>\n",
       "      <td>21.7</td>\n",
       "    </tr>\n",
       "    <tr>\n",
       "      <th>8</th>\n",
       "      <td>14</td>\n",
       "      <td>0.62976</td>\n",
       "      <td>0.0</td>\n",
       "      <td>8.14</td>\n",
       "      <td>0</td>\n",
       "      <td>0.538</td>\n",
       "      <td>5.949</td>\n",
       "      <td>61.8</td>\n",
       "      <td>4.7075</td>\n",
       "      <td>4</td>\n",
       "      <td>307</td>\n",
       "      <td>21.0</td>\n",
       "      <td>396.90</td>\n",
       "      <td>8.26</td>\n",
       "      <td>20.4</td>\n",
       "    </tr>\n",
       "    <tr>\n",
       "      <th>9</th>\n",
       "      <td>15</td>\n",
       "      <td>0.63796</td>\n",
       "      <td>0.0</td>\n",
       "      <td>8.14</td>\n",
       "      <td>0</td>\n",
       "      <td>0.538</td>\n",
       "      <td>6.096</td>\n",
       "      <td>84.5</td>\n",
       "      <td>4.4619</td>\n",
       "      <td>4</td>\n",
       "      <td>307</td>\n",
       "      <td>21.0</td>\n",
       "      <td>380.02</td>\n",
       "      <td>10.26</td>\n",
       "      <td>18.2</td>\n",
       "    </tr>\n",
       "  </tbody>\n",
       "</table>\n",
       "</div>"
      ],
      "text/plain": [
       "   ID  crimerate  pctbiglots  pctindustrialized  riverboolean  pollution  \\\n",
       "0   1    0.00632        18.0               2.31             0      0.538   \n",
       "1   2    0.02731         0.0               7.07             0      0.469   \n",
       "2   4    0.03237         0.0               2.18             0      0.458   \n",
       "3   5    0.06905         0.0               2.18             0      0.458   \n",
       "4   7    0.08829        12.5               7.87             0      0.524   \n",
       "5  11    0.22489        12.5               7.87             0      0.524   \n",
       "6  12    0.11747        12.5               7.87             0      0.524   \n",
       "7  13    0.09378        12.5               7.87             0      0.524   \n",
       "8  14    0.62976         0.0               8.14             0      0.538   \n",
       "9  15    0.63796         0.0               8.14             0      0.538   \n",
       "\n",
       "   roomsperhouse  pctbuiltbefore1940  distancetowork  highwayaccess  \\\n",
       "0          6.575                65.2          4.0900              1   \n",
       "1          6.421                78.9          4.9671              2   \n",
       "2          6.998                45.8          6.0622              3   \n",
       "3          7.147                54.2          6.0622              3   \n",
       "4          6.012                66.6          5.5605              5   \n",
       "5          6.377                94.3          6.3467              5   \n",
       "6          6.009                82.9          6.2267              5   \n",
       "7          5.889                39.0          5.4509              5   \n",
       "8          5.949                61.8          4.7075              4   \n",
       "9          6.096                84.5          4.4619              4   \n",
       "\n",
       "   proptaxper10k  puilteachratio   black  lowerstatuspop  medianvalue  \n",
       "0            296            15.3  396.90            4.98         24.0  \n",
       "1            242            17.8  396.90            9.14         21.6  \n",
       "2            222            18.7  394.63            2.94         33.4  \n",
       "3            222            18.7  396.90            5.33         36.2  \n",
       "4            311            15.2  395.60           12.43         22.9  \n",
       "5            311            15.2  392.52           20.45         15.0  \n",
       "6            311            15.2  396.90           13.27         18.9  \n",
       "7            311            15.2  390.50           15.71         21.7  \n",
       "8            307            21.0  396.90            8.26         20.4  \n",
       "9            307            21.0  380.02           10.26         18.2  "
      ]
     },
     "execution_count": 148,
     "metadata": {},
     "output_type": "execute_result"
    }
   ],
   "source": [
    "housing.head(10)"
   ]
  },
  {
   "cell_type": "code",
   "execution_count": 149,
   "metadata": {},
   "outputs": [
    {
     "data": {
      "text/html": [
       "<div>\n",
       "<style scoped>\n",
       "    .dataframe tbody tr th:only-of-type {\n",
       "        vertical-align: middle;\n",
       "    }\n",
       "\n",
       "    .dataframe tbody tr th {\n",
       "        vertical-align: top;\n",
       "    }\n",
       "\n",
       "    .dataframe thead th {\n",
       "        text-align: right;\n",
       "    }\n",
       "</style>\n",
       "<table border=\"1\" class=\"dataframe\">\n",
       "  <thead>\n",
       "    <tr style=\"text-align: right;\">\n",
       "      <th></th>\n",
       "      <th>ID</th>\n",
       "      <th>crimerate</th>\n",
       "      <th>pctbiglots</th>\n",
       "      <th>pctindustrialized</th>\n",
       "      <th>riverboolean</th>\n",
       "      <th>pollution</th>\n",
       "      <th>roomsperhouse</th>\n",
       "      <th>pctbuiltbefore1940</th>\n",
       "      <th>distancetowork</th>\n",
       "      <th>highwayaccess</th>\n",
       "      <th>proptaxper10k</th>\n",
       "      <th>puilteachratio</th>\n",
       "      <th>black</th>\n",
       "      <th>lowerstatuspop</th>\n",
       "      <th>medianvalue</th>\n",
       "    </tr>\n",
       "  </thead>\n",
       "  <tbody>\n",
       "    <tr>\n",
       "      <th>323</th>\n",
       "      <td>491</td>\n",
       "      <td>0.20746</td>\n",
       "      <td>0.0</td>\n",
       "      <td>27.74</td>\n",
       "      <td>0</td>\n",
       "      <td>0.609</td>\n",
       "      <td>5.093</td>\n",
       "      <td>98.0</td>\n",
       "      <td>1.8226</td>\n",
       "      <td>4</td>\n",
       "      <td>711</td>\n",
       "      <td>20.1</td>\n",
       "      <td>318.43</td>\n",
       "      <td>29.68</td>\n",
       "      <td>8.1</td>\n",
       "    </tr>\n",
       "    <tr>\n",
       "      <th>324</th>\n",
       "      <td>492</td>\n",
       "      <td>0.10574</td>\n",
       "      <td>0.0</td>\n",
       "      <td>27.74</td>\n",
       "      <td>0</td>\n",
       "      <td>0.609</td>\n",
       "      <td>5.983</td>\n",
       "      <td>98.8</td>\n",
       "      <td>1.8681</td>\n",
       "      <td>4</td>\n",
       "      <td>711</td>\n",
       "      <td>20.1</td>\n",
       "      <td>390.11</td>\n",
       "      <td>18.07</td>\n",
       "      <td>13.6</td>\n",
       "    </tr>\n",
       "    <tr>\n",
       "      <th>325</th>\n",
       "      <td>493</td>\n",
       "      <td>0.11132</td>\n",
       "      <td>0.0</td>\n",
       "      <td>27.74</td>\n",
       "      <td>0</td>\n",
       "      <td>0.609</td>\n",
       "      <td>5.983</td>\n",
       "      <td>83.5</td>\n",
       "      <td>2.1099</td>\n",
       "      <td>4</td>\n",
       "      <td>711</td>\n",
       "      <td>20.1</td>\n",
       "      <td>396.90</td>\n",
       "      <td>13.35</td>\n",
       "      <td>20.1</td>\n",
       "    </tr>\n",
       "    <tr>\n",
       "      <th>326</th>\n",
       "      <td>494</td>\n",
       "      <td>0.17331</td>\n",
       "      <td>0.0</td>\n",
       "      <td>9.69</td>\n",
       "      <td>0</td>\n",
       "      <td>0.585</td>\n",
       "      <td>5.707</td>\n",
       "      <td>54.0</td>\n",
       "      <td>2.3817</td>\n",
       "      <td>6</td>\n",
       "      <td>391</td>\n",
       "      <td>19.2</td>\n",
       "      <td>396.90</td>\n",
       "      <td>12.01</td>\n",
       "      <td>21.8</td>\n",
       "    </tr>\n",
       "    <tr>\n",
       "      <th>327</th>\n",
       "      <td>498</td>\n",
       "      <td>0.26838</td>\n",
       "      <td>0.0</td>\n",
       "      <td>9.69</td>\n",
       "      <td>0</td>\n",
       "      <td>0.585</td>\n",
       "      <td>5.794</td>\n",
       "      <td>70.6</td>\n",
       "      <td>2.8927</td>\n",
       "      <td>6</td>\n",
       "      <td>391</td>\n",
       "      <td>19.2</td>\n",
       "      <td>396.90</td>\n",
       "      <td>14.10</td>\n",
       "      <td>18.3</td>\n",
       "    </tr>\n",
       "    <tr>\n",
       "      <th>328</th>\n",
       "      <td>500</td>\n",
       "      <td>0.17783</td>\n",
       "      <td>0.0</td>\n",
       "      <td>9.69</td>\n",
       "      <td>0</td>\n",
       "      <td>0.585</td>\n",
       "      <td>5.569</td>\n",
       "      <td>73.5</td>\n",
       "      <td>2.3999</td>\n",
       "      <td>6</td>\n",
       "      <td>391</td>\n",
       "      <td>19.2</td>\n",
       "      <td>395.77</td>\n",
       "      <td>15.10</td>\n",
       "      <td>17.5</td>\n",
       "    </tr>\n",
       "    <tr>\n",
       "      <th>329</th>\n",
       "      <td>502</td>\n",
       "      <td>0.06263</td>\n",
       "      <td>0.0</td>\n",
       "      <td>11.93</td>\n",
       "      <td>0</td>\n",
       "      <td>0.573</td>\n",
       "      <td>6.593</td>\n",
       "      <td>69.1</td>\n",
       "      <td>2.4786</td>\n",
       "      <td>1</td>\n",
       "      <td>273</td>\n",
       "      <td>21.0</td>\n",
       "      <td>391.99</td>\n",
       "      <td>9.67</td>\n",
       "      <td>22.4</td>\n",
       "    </tr>\n",
       "    <tr>\n",
       "      <th>330</th>\n",
       "      <td>503</td>\n",
       "      <td>0.04527</td>\n",
       "      <td>0.0</td>\n",
       "      <td>11.93</td>\n",
       "      <td>0</td>\n",
       "      <td>0.573</td>\n",
       "      <td>6.120</td>\n",
       "      <td>76.7</td>\n",
       "      <td>2.2875</td>\n",
       "      <td>1</td>\n",
       "      <td>273</td>\n",
       "      <td>21.0</td>\n",
       "      <td>396.90</td>\n",
       "      <td>9.08</td>\n",
       "      <td>20.6</td>\n",
       "    </tr>\n",
       "    <tr>\n",
       "      <th>331</th>\n",
       "      <td>504</td>\n",
       "      <td>0.06076</td>\n",
       "      <td>0.0</td>\n",
       "      <td>11.93</td>\n",
       "      <td>0</td>\n",
       "      <td>0.573</td>\n",
       "      <td>6.976</td>\n",
       "      <td>91.0</td>\n",
       "      <td>2.1675</td>\n",
       "      <td>1</td>\n",
       "      <td>273</td>\n",
       "      <td>21.0</td>\n",
       "      <td>396.90</td>\n",
       "      <td>5.64</td>\n",
       "      <td>23.9</td>\n",
       "    </tr>\n",
       "    <tr>\n",
       "      <th>332</th>\n",
       "      <td>506</td>\n",
       "      <td>0.04741</td>\n",
       "      <td>0.0</td>\n",
       "      <td>11.93</td>\n",
       "      <td>0</td>\n",
       "      <td>0.573</td>\n",
       "      <td>6.030</td>\n",
       "      <td>80.8</td>\n",
       "      <td>2.5050</td>\n",
       "      <td>1</td>\n",
       "      <td>273</td>\n",
       "      <td>21.0</td>\n",
       "      <td>396.90</td>\n",
       "      <td>7.88</td>\n",
       "      <td>11.9</td>\n",
       "    </tr>\n",
       "  </tbody>\n",
       "</table>\n",
       "</div>"
      ],
      "text/plain": [
       "      ID  crimerate  pctbiglots  pctindustrialized  riverboolean  pollution  \\\n",
       "323  491    0.20746         0.0              27.74             0      0.609   \n",
       "324  492    0.10574         0.0              27.74             0      0.609   \n",
       "325  493    0.11132         0.0              27.74             0      0.609   \n",
       "326  494    0.17331         0.0               9.69             0      0.585   \n",
       "327  498    0.26838         0.0               9.69             0      0.585   \n",
       "328  500    0.17783         0.0               9.69             0      0.585   \n",
       "329  502    0.06263         0.0              11.93             0      0.573   \n",
       "330  503    0.04527         0.0              11.93             0      0.573   \n",
       "331  504    0.06076         0.0              11.93             0      0.573   \n",
       "332  506    0.04741         0.0              11.93             0      0.573   \n",
       "\n",
       "     roomsperhouse  pctbuiltbefore1940  distancetowork  highwayaccess  \\\n",
       "323          5.093                98.0          1.8226              4   \n",
       "324          5.983                98.8          1.8681              4   \n",
       "325          5.983                83.5          2.1099              4   \n",
       "326          5.707                54.0          2.3817              6   \n",
       "327          5.794                70.6          2.8927              6   \n",
       "328          5.569                73.5          2.3999              6   \n",
       "329          6.593                69.1          2.4786              1   \n",
       "330          6.120                76.7          2.2875              1   \n",
       "331          6.976                91.0          2.1675              1   \n",
       "332          6.030                80.8          2.5050              1   \n",
       "\n",
       "     proptaxper10k  puilteachratio   black  lowerstatuspop  medianvalue  \n",
       "323            711            20.1  318.43           29.68          8.1  \n",
       "324            711            20.1  390.11           18.07         13.6  \n",
       "325            711            20.1  396.90           13.35         20.1  \n",
       "326            391            19.2  396.90           12.01         21.8  \n",
       "327            391            19.2  396.90           14.10         18.3  \n",
       "328            391            19.2  395.77           15.10         17.5  \n",
       "329            273            21.0  391.99            9.67         22.4  \n",
       "330            273            21.0  396.90            9.08         20.6  \n",
       "331            273            21.0  396.90            5.64         23.9  \n",
       "332            273            21.0  396.90            7.88         11.9  "
      ]
     },
     "execution_count": 149,
     "metadata": {},
     "output_type": "execute_result"
    }
   ],
   "source": [
    "housing.tail(10)"
   ]
  },
  {
   "cell_type": "code",
   "execution_count": 150,
   "metadata": {},
   "outputs": [
    {
     "data": {
      "text/html": [
       "<div>\n",
       "<style scoped>\n",
       "    .dataframe tbody tr th:only-of-type {\n",
       "        vertical-align: middle;\n",
       "    }\n",
       "\n",
       "    .dataframe tbody tr th {\n",
       "        vertical-align: top;\n",
       "    }\n",
       "\n",
       "    .dataframe thead th {\n",
       "        text-align: right;\n",
       "    }\n",
       "</style>\n",
       "<table border=\"1\" class=\"dataframe\">\n",
       "  <thead>\n",
       "    <tr style=\"text-align: right;\">\n",
       "      <th></th>\n",
       "      <th>ID</th>\n",
       "      <th>crimerate</th>\n",
       "      <th>pctbiglots</th>\n",
       "      <th>pctindustrialized</th>\n",
       "      <th>riverboolean</th>\n",
       "      <th>pollution</th>\n",
       "      <th>roomsperhouse</th>\n",
       "      <th>pctbuiltbefore1940</th>\n",
       "      <th>distancetowork</th>\n",
       "      <th>highwayaccess</th>\n",
       "      <th>proptaxper10k</th>\n",
       "      <th>puilteachratio</th>\n",
       "      <th>black</th>\n",
       "      <th>lowerstatuspop</th>\n",
       "      <th>medianvalue</th>\n",
       "    </tr>\n",
       "  </thead>\n",
       "  <tbody>\n",
       "    <tr>\n",
       "      <th>count</th>\n",
       "      <td>333.000000</td>\n",
       "      <td>333.000000</td>\n",
       "      <td>333.000000</td>\n",
       "      <td>333.000000</td>\n",
       "      <td>333.000000</td>\n",
       "      <td>333.000000</td>\n",
       "      <td>333.000000</td>\n",
       "      <td>333.000000</td>\n",
       "      <td>333.000000</td>\n",
       "      <td>333.000000</td>\n",
       "      <td>333.000000</td>\n",
       "      <td>333.000000</td>\n",
       "      <td>333.000000</td>\n",
       "      <td>333.000000</td>\n",
       "      <td>333.000000</td>\n",
       "    </tr>\n",
       "    <tr>\n",
       "      <th>mean</th>\n",
       "      <td>250.951952</td>\n",
       "      <td>3.360341</td>\n",
       "      <td>10.689189</td>\n",
       "      <td>11.293483</td>\n",
       "      <td>0.060060</td>\n",
       "      <td>0.557144</td>\n",
       "      <td>6.265619</td>\n",
       "      <td>68.226426</td>\n",
       "      <td>3.709934</td>\n",
       "      <td>9.633634</td>\n",
       "      <td>409.279279</td>\n",
       "      <td>18.448048</td>\n",
       "      <td>359.466096</td>\n",
       "      <td>12.515435</td>\n",
       "      <td>22.768769</td>\n",
       "    </tr>\n",
       "    <tr>\n",
       "      <th>std</th>\n",
       "      <td>147.859438</td>\n",
       "      <td>7.352272</td>\n",
       "      <td>22.674762</td>\n",
       "      <td>6.998123</td>\n",
       "      <td>0.237956</td>\n",
       "      <td>0.114955</td>\n",
       "      <td>0.703952</td>\n",
       "      <td>28.133344</td>\n",
       "      <td>1.981123</td>\n",
       "      <td>8.742174</td>\n",
       "      <td>170.841988</td>\n",
       "      <td>2.151821</td>\n",
       "      <td>86.584567</td>\n",
       "      <td>7.067781</td>\n",
       "      <td>9.173468</td>\n",
       "    </tr>\n",
       "    <tr>\n",
       "      <th>min</th>\n",
       "      <td>1.000000</td>\n",
       "      <td>0.006320</td>\n",
       "      <td>0.000000</td>\n",
       "      <td>0.740000</td>\n",
       "      <td>0.000000</td>\n",
       "      <td>0.385000</td>\n",
       "      <td>3.561000</td>\n",
       "      <td>6.000000</td>\n",
       "      <td>1.129600</td>\n",
       "      <td>1.000000</td>\n",
       "      <td>188.000000</td>\n",
       "      <td>12.600000</td>\n",
       "      <td>3.500000</td>\n",
       "      <td>1.730000</td>\n",
       "      <td>5.000000</td>\n",
       "    </tr>\n",
       "    <tr>\n",
       "      <th>25%</th>\n",
       "      <td>123.000000</td>\n",
       "      <td>0.078960</td>\n",
       "      <td>0.000000</td>\n",
       "      <td>5.130000</td>\n",
       "      <td>0.000000</td>\n",
       "      <td>0.453000</td>\n",
       "      <td>5.884000</td>\n",
       "      <td>45.400000</td>\n",
       "      <td>2.122400</td>\n",
       "      <td>4.000000</td>\n",
       "      <td>279.000000</td>\n",
       "      <td>17.400000</td>\n",
       "      <td>376.730000</td>\n",
       "      <td>7.180000</td>\n",
       "      <td>17.400000</td>\n",
       "    </tr>\n",
       "    <tr>\n",
       "      <th>50%</th>\n",
       "      <td>244.000000</td>\n",
       "      <td>0.261690</td>\n",
       "      <td>0.000000</td>\n",
       "      <td>9.900000</td>\n",
       "      <td>0.000000</td>\n",
       "      <td>0.538000</td>\n",
       "      <td>6.202000</td>\n",
       "      <td>76.700000</td>\n",
       "      <td>3.092300</td>\n",
       "      <td>5.000000</td>\n",
       "      <td>330.000000</td>\n",
       "      <td>19.000000</td>\n",
       "      <td>392.050000</td>\n",
       "      <td>10.970000</td>\n",
       "      <td>21.600000</td>\n",
       "    </tr>\n",
       "    <tr>\n",
       "      <th>75%</th>\n",
       "      <td>377.000000</td>\n",
       "      <td>3.678220</td>\n",
       "      <td>12.500000</td>\n",
       "      <td>18.100000</td>\n",
       "      <td>0.000000</td>\n",
       "      <td>0.631000</td>\n",
       "      <td>6.595000</td>\n",
       "      <td>93.800000</td>\n",
       "      <td>5.116700</td>\n",
       "      <td>24.000000</td>\n",
       "      <td>666.000000</td>\n",
       "      <td>20.200000</td>\n",
       "      <td>396.240000</td>\n",
       "      <td>16.420000</td>\n",
       "      <td>25.000000</td>\n",
       "    </tr>\n",
       "    <tr>\n",
       "      <th>max</th>\n",
       "      <td>506.000000</td>\n",
       "      <td>73.534100</td>\n",
       "      <td>100.000000</td>\n",
       "      <td>27.740000</td>\n",
       "      <td>1.000000</td>\n",
       "      <td>0.871000</td>\n",
       "      <td>8.725000</td>\n",
       "      <td>100.000000</td>\n",
       "      <td>10.710300</td>\n",
       "      <td>24.000000</td>\n",
       "      <td>711.000000</td>\n",
       "      <td>21.200000</td>\n",
       "      <td>396.900000</td>\n",
       "      <td>37.970000</td>\n",
       "      <td>50.000000</td>\n",
       "    </tr>\n",
       "  </tbody>\n",
       "</table>\n",
       "</div>"
      ],
      "text/plain": [
       "               ID   crimerate  pctbiglots  pctindustrialized  riverboolean  \\\n",
       "count  333.000000  333.000000  333.000000         333.000000    333.000000   \n",
       "mean   250.951952    3.360341   10.689189          11.293483      0.060060   \n",
       "std    147.859438    7.352272   22.674762           6.998123      0.237956   \n",
       "min      1.000000    0.006320    0.000000           0.740000      0.000000   \n",
       "25%    123.000000    0.078960    0.000000           5.130000      0.000000   \n",
       "50%    244.000000    0.261690    0.000000           9.900000      0.000000   \n",
       "75%    377.000000    3.678220   12.500000          18.100000      0.000000   \n",
       "max    506.000000   73.534100  100.000000          27.740000      1.000000   \n",
       "\n",
       "        pollution  roomsperhouse  pctbuiltbefore1940  distancetowork  \\\n",
       "count  333.000000     333.000000          333.000000      333.000000   \n",
       "mean     0.557144       6.265619           68.226426        3.709934   \n",
       "std      0.114955       0.703952           28.133344        1.981123   \n",
       "min      0.385000       3.561000            6.000000        1.129600   \n",
       "25%      0.453000       5.884000           45.400000        2.122400   \n",
       "50%      0.538000       6.202000           76.700000        3.092300   \n",
       "75%      0.631000       6.595000           93.800000        5.116700   \n",
       "max      0.871000       8.725000          100.000000       10.710300   \n",
       "\n",
       "       highwayaccess  proptaxper10k  puilteachratio       black  \\\n",
       "count     333.000000     333.000000      333.000000  333.000000   \n",
       "mean        9.633634     409.279279       18.448048  359.466096   \n",
       "std         8.742174     170.841988        2.151821   86.584567   \n",
       "min         1.000000     188.000000       12.600000    3.500000   \n",
       "25%         4.000000     279.000000       17.400000  376.730000   \n",
       "50%         5.000000     330.000000       19.000000  392.050000   \n",
       "75%        24.000000     666.000000       20.200000  396.240000   \n",
       "max        24.000000     711.000000       21.200000  396.900000   \n",
       "\n",
       "       lowerstatuspop  medianvalue  \n",
       "count      333.000000   333.000000  \n",
       "mean        12.515435    22.768769  \n",
       "std          7.067781     9.173468  \n",
       "min          1.730000     5.000000  \n",
       "25%          7.180000    17.400000  \n",
       "50%         10.970000    21.600000  \n",
       "75%         16.420000    25.000000  \n",
       "max         37.970000    50.000000  "
      ]
     },
     "execution_count": 150,
     "metadata": {},
     "output_type": "execute_result"
    }
   ],
   "source": [
    "housing.describe()"
   ]
  },
  {
   "cell_type": "markdown",
   "metadata": {},
   "source": [
    "## Histograms\n",
    "\n",
    "Going with the median home value and 4 other variables that have a  good correlation relationship with each other."
   ]
  },
  {
   "cell_type": "code",
   "execution_count": 151,
   "metadata": {},
   "outputs": [
    {
     "data": {
      "text/plain": [
       "Text(0.5, 1.0, 'Median Value (In Thousands)')"
      ]
     },
     "execution_count": 151,
     "metadata": {},
     "output_type": "execute_result"
    },
    {
     "data": {
      "image/png": "[encoded data removed]",
      "text/plain": [
       "<Figure size 432x288 with 1 Axes>"
      ]
     },
     "metadata": {
      "needs_background": "light"
     },
     "output_type": "display_data"
    }
   ],
   "source": [
    "matplotlib.pyplot.hist(housing.medianvalue, bins = 40)\n",
    "matplotlib.pyplot.title(\"Median Value (In Thousands)\")"
   ]
  },
  {
   "cell_type": "code",
   "execution_count": 152,
   "metadata": {},
   "outputs": [
    {
     "data": {
      "text/plain": [
       "Text(0.5, 1.0, 'Lower Status of Population')"
      ]
     },
     "execution_count": 152,
     "metadata": {},
     "output_type": "execute_result"
    },
    {
     "data": {
      "image/png": "[encoded data removed]",
      "text/plain": [
       "<Figure size 432x288 with 1 Axes>"
      ]
     },
     "metadata": {
      "needs_background": "light"
     },
     "output_type": "display_data"
    }
   ],
   "source": [
    "matplotlib.pyplot.hist(housing.lowerstatuspop, bins = 40)\n",
    "matplotlib.pyplot.title(\"Lower Status of Population\")"
   ]
  },
  {
   "cell_type": "code",
   "execution_count": 153,
   "metadata": {},
   "outputs": [
    {
     "data": {
      "text/plain": [
       "Text(0.5, 1.0, 'Bedrooms Per House')"
      ]
     },
     "execution_count": 153,
     "metadata": {},
     "output_type": "execute_result"
    },
    {
     "data": {
      "image/png": "[encoded data removed]",
      "text/plain": [
       "<Figure size 432x288 with 1 Axes>"
      ]
     },
     "metadata": {
      "needs_background": "light"
     },
     "output_type": "display_data"
    }
   ],
   "source": [
    "matplotlib.pyplot.hist(housing.roomsperhouse, bins = 40)\n",
    "matplotlib.pyplot.title(\"Bedrooms Per House\")"
   ]
  },
  {
   "cell_type": "code",
   "execution_count": 154,
   "metadata": {},
   "outputs": [
    {
     "data": {
      "text/plain": [
       "Text(0.5, 1.0, 'Students to Teacher Ratio')"
      ]
     },
     "execution_count": 154,
     "metadata": {},
     "output_type": "execute_result"
    },
    {
     "data": {
      "image/png": "[encoded data removed]",
      "text/plain": [
       "<Figure size 432x288 with 1 Axes>"
      ]
     },
     "metadata": {
      "needs_background": "light"
     },
     "output_type": "display_data"
    }
   ],
   "source": [
    "matplotlib.pyplot.hist(housing.puilteachratio, bins = 10)\n",
    "matplotlib.pyplot.title(\"Students to Teacher Ratio\")"
   ]
  },
  {
   "cell_type": "code",
   "execution_count": 155,
   "metadata": {},
   "outputs": [
    {
     "data": {
      "text/plain": [
       "Text(0.5, 1.0, 'Percent Industrialized')"
      ]
     },
     "execution_count": 155,
     "metadata": {},
     "output_type": "execute_result"
    },
    {
     "data": {
      "image/png": "[encoded data removed]",
      "text/plain": [
       "<Figure size 432x288 with 1 Axes>"
      ]
     },
     "metadata": {
      "needs_background": "light"
     },
     "output_type": "display_data"
    }
   ],
   "source": [
    "matplotlib.pyplot.hist(housing.pctindustrialized, bins = 20)\n",
    "matplotlib.pyplot.title(\"Percent Industrialized\")"
   ]
  },
  {
   "cell_type": "markdown",
   "metadata": {},
   "source": [
    "## Correlation Testing Between The Variables\n",
    "\n",
    "I wanted to see the strength of relationships between the variables in the data set."
   ]
  },
  {
   "cell_type": "code",
   "execution_count": 156,
   "metadata": {},
   "outputs": [
    {
     "data": {
      "text/plain": [
       "<matplotlib.image.AxesImage at 0x127646a0>"
      ]
     },
     "execution_count": 156,
     "metadata": {},
     "output_type": "execute_result"
    },
    {
     "data": {
      "image/png": "[encoded data removed]",
      "text/plain": [
       "<Figure size 288x288 with 1 Axes>"
      ]
     },
     "metadata": {
      "needs_background": "light"
     },
     "output_type": "display_data"
    }
   ],
   "source": [
    "matplotlib.pyplot.matshow(housing.corr())"
   ]
  },
  {
   "cell_type": "code",
   "execution_count": 157,
   "metadata": {},
   "outputs": [
    {
     "data": {
      "text/plain": [
       "<matplotlib.axes._subplots.AxesSubplot at 0x12798eb8>"
      ]
     },
     "execution_count": 157,
     "metadata": {},
     "output_type": "execute_result"
    },
    {
     "data": {
      "image/png": "[encoded data removed]",
      "text/plain": [
       "<Figure size 432x288 with 2 Axes>"
      ]
     },
     "metadata": {
      "needs_background": "light"
     },
     "output_type": "display_data"
    }
   ],
   "source": [
    "corr = housing.corr()\n",
    "seaborn.heatmap(corr, \n",
    "            xticklabels = corr.columns.values,\n",
    "            yticklabels = corr.columns.values)"
   ]
  },
  {
   "cell_type": "code",
   "execution_count": 158,
   "metadata": {},
   "outputs": [
    {
     "data": {
      "text/html": [
       "<div>\n",
       "<style scoped>\n",
       "    .dataframe tbody tr th:only-of-type {\n",
       "        vertical-align: middle;\n",
       "    }\n",
       "\n",
       "    .dataframe tbody tr th {\n",
       "        vertical-align: top;\n",
       "    }\n",
       "\n",
       "    .dataframe thead th {\n",
       "        text-align: right;\n",
       "    }\n",
       "</style>\n",
       "<table border=\"1\" class=\"dataframe\">\n",
       "  <thead>\n",
       "    <tr style=\"text-align: right;\">\n",
       "      <th></th>\n",
       "      <th>ID</th>\n",
       "      <th>crimerate</th>\n",
       "      <th>pctbiglots</th>\n",
       "      <th>pctindustrialized</th>\n",
       "      <th>riverboolean</th>\n",
       "      <th>pollution</th>\n",
       "      <th>roomsperhouse</th>\n",
       "      <th>pctbuiltbefore1940</th>\n",
       "      <th>distancetowork</th>\n",
       "      <th>highwayaccess</th>\n",
       "      <th>proptaxper10k</th>\n",
       "      <th>puilteachratio</th>\n",
       "      <th>black</th>\n",
       "      <th>lowerstatuspop</th>\n",
       "      <th>medianvalue</th>\n",
       "    </tr>\n",
       "  </thead>\n",
       "  <tbody>\n",
       "    <tr>\n",
       "      <th>ID</th>\n",
       "      <td>1.000000</td>\n",
       "      <td>0.456312</td>\n",
       "      <td>-0.155639</td>\n",
       "      <td>0.421978</td>\n",
       "      <td>0.007958</td>\n",
       "      <td>0.440185</td>\n",
       "      <td>-0.112790</td>\n",
       "      <td>0.257300</td>\n",
       "      <td>-0.356461</td>\n",
       "      <td>0.707526</td>\n",
       "      <td>0.686246</td>\n",
       "      <td>0.309838</td>\n",
       "      <td>-0.271619</td>\n",
       "      <td>0.281953</td>\n",
       "      <td>-0.221694</td>\n",
       "    </tr>\n",
       "    <tr>\n",
       "      <th>crimerate</th>\n",
       "      <td>0.456312</td>\n",
       "      <td>1.000000</td>\n",
       "      <td>-0.210913</td>\n",
       "      <td>0.422228</td>\n",
       "      <td>-0.041195</td>\n",
       "      <td>0.463001</td>\n",
       "      <td>-0.310180</td>\n",
       "      <td>0.379034</td>\n",
       "      <td>-0.397067</td>\n",
       "      <td>0.666636</td>\n",
       "      <td>0.617081</td>\n",
       "      <td>0.313409</td>\n",
       "      <td>-0.475796</td>\n",
       "      <td>0.532077</td>\n",
       "      <td>-0.407454</td>\n",
       "    </tr>\n",
       "    <tr>\n",
       "      <th>pctbiglots</th>\n",
       "      <td>-0.155639</td>\n",
       "      <td>-0.210913</td>\n",
       "      <td>1.000000</td>\n",
       "      <td>-0.518679</td>\n",
       "      <td>-0.024442</td>\n",
       "      <td>-0.501990</td>\n",
       "      <td>0.328197</td>\n",
       "      <td>-0.544513</td>\n",
       "      <td>0.637142</td>\n",
       "      <td>-0.303663</td>\n",
       "      <td>-0.311180</td>\n",
       "      <td>-0.380449</td>\n",
       "      <td>0.168130</td>\n",
       "      <td>-0.388112</td>\n",
       "      <td>0.344842</td>\n",
       "    </tr>\n",
       "    <tr>\n",
       "      <th>pctindustrialized</th>\n",
       "      <td>0.421978</td>\n",
       "      <td>0.422228</td>\n",
       "      <td>-0.518679</td>\n",
       "      <td>1.000000</td>\n",
       "      <td>0.037496</td>\n",
       "      <td>0.750087</td>\n",
       "      <td>-0.440365</td>\n",
       "      <td>0.638378</td>\n",
       "      <td>-0.702327</td>\n",
       "      <td>0.569779</td>\n",
       "      <td>0.708313</td>\n",
       "      <td>0.391087</td>\n",
       "      <td>-0.335049</td>\n",
       "      <td>0.614155</td>\n",
       "      <td>-0.473932</td>\n",
       "    </tr>\n",
       "    <tr>\n",
       "      <th>riverboolean</th>\n",
       "      <td>0.007958</td>\n",
       "      <td>-0.041195</td>\n",
       "      <td>-0.024442</td>\n",
       "      <td>0.037496</td>\n",
       "      <td>1.000000</td>\n",
       "      <td>0.080275</td>\n",
       "      <td>0.112251</td>\n",
       "      <td>0.068286</td>\n",
       "      <td>-0.081834</td>\n",
       "      <td>0.007714</td>\n",
       "      <td>-0.021826</td>\n",
       "      <td>-0.125067</td>\n",
       "      <td>0.062029</td>\n",
       "      <td>-0.050055</td>\n",
       "      <td>0.204390</td>\n",
       "    </tr>\n",
       "    <tr>\n",
       "      <th>pollution</th>\n",
       "      <td>0.440185</td>\n",
       "      <td>0.463001</td>\n",
       "      <td>-0.501990</td>\n",
       "      <td>0.750087</td>\n",
       "      <td>0.080275</td>\n",
       "      <td>1.000000</td>\n",
       "      <td>-0.338515</td>\n",
       "      <td>0.736000</td>\n",
       "      <td>-0.769364</td>\n",
       "      <td>0.612180</td>\n",
       "      <td>0.670722</td>\n",
       "      <td>0.192513</td>\n",
       "      <td>-0.369416</td>\n",
       "      <td>0.598874</td>\n",
       "      <td>-0.413054</td>\n",
       "    </tr>\n",
       "    <tr>\n",
       "      <th>roomsperhouse</th>\n",
       "      <td>-0.112790</td>\n",
       "      <td>-0.310180</td>\n",
       "      <td>0.328197</td>\n",
       "      <td>-0.440365</td>\n",
       "      <td>0.112251</td>\n",
       "      <td>-0.338515</td>\n",
       "      <td>1.000000</td>\n",
       "      <td>-0.248573</td>\n",
       "      <td>0.269191</td>\n",
       "      <td>-0.272783</td>\n",
       "      <td>-0.356987</td>\n",
       "      <td>-0.366927</td>\n",
       "      <td>0.155202</td>\n",
       "      <td>-0.615747</td>\n",
       "      <td>0.689598</td>\n",
       "    </tr>\n",
       "    <tr>\n",
       "      <th>pctbuiltbefore1940</th>\n",
       "      <td>0.257300</td>\n",
       "      <td>0.379034</td>\n",
       "      <td>-0.544513</td>\n",
       "      <td>0.638378</td>\n",
       "      <td>0.068286</td>\n",
       "      <td>0.736000</td>\n",
       "      <td>-0.248573</td>\n",
       "      <td>1.000000</td>\n",
       "      <td>-0.764208</td>\n",
       "      <td>0.447380</td>\n",
       "      <td>0.511893</td>\n",
       "      <td>0.259293</td>\n",
       "      <td>-0.268054</td>\n",
       "      <td>0.588834</td>\n",
       "      <td>-0.358888</td>\n",
       "    </tr>\n",
       "    <tr>\n",
       "      <th>distancetowork</th>\n",
       "      <td>-0.356461</td>\n",
       "      <td>-0.397067</td>\n",
       "      <td>0.637142</td>\n",
       "      <td>-0.702327</td>\n",
       "      <td>-0.081834</td>\n",
       "      <td>-0.769364</td>\n",
       "      <td>0.269191</td>\n",
       "      <td>-0.764208</td>\n",
       "      <td>1.000000</td>\n",
       "      <td>-0.477610</td>\n",
       "      <td>-0.529539</td>\n",
       "      <td>-0.231101</td>\n",
       "      <td>0.284374</td>\n",
       "      <td>-0.505939</td>\n",
       "      <td>0.249422</td>\n",
       "    </tr>\n",
       "    <tr>\n",
       "      <th>highwayaccess</th>\n",
       "      <td>0.707526</td>\n",
       "      <td>0.666636</td>\n",
       "      <td>-0.303663</td>\n",
       "      <td>0.569779</td>\n",
       "      <td>0.007714</td>\n",
       "      <td>0.612180</td>\n",
       "      <td>-0.272783</td>\n",
       "      <td>0.447380</td>\n",
       "      <td>-0.477610</td>\n",
       "      <td>1.000000</td>\n",
       "      <td>0.903562</td>\n",
       "      <td>0.470849</td>\n",
       "      <td>-0.406405</td>\n",
       "      <td>0.484568</td>\n",
       "      <td>-0.352251</td>\n",
       "    </tr>\n",
       "    <tr>\n",
       "      <th>proptaxper10k</th>\n",
       "      <td>0.686246</td>\n",
       "      <td>0.617081</td>\n",
       "      <td>-0.311180</td>\n",
       "      <td>0.708313</td>\n",
       "      <td>-0.021826</td>\n",
       "      <td>0.670722</td>\n",
       "      <td>-0.356987</td>\n",
       "      <td>0.511893</td>\n",
       "      <td>-0.529539</td>\n",
       "      <td>0.903562</td>\n",
       "      <td>1.000000</td>\n",
       "      <td>0.467437</td>\n",
       "      <td>-0.406477</td>\n",
       "      <td>0.544485</td>\n",
       "      <td>-0.448078</td>\n",
       "    </tr>\n",
       "    <tr>\n",
       "      <th>puilteachratio</th>\n",
       "      <td>0.309838</td>\n",
       "      <td>0.313409</td>\n",
       "      <td>-0.380449</td>\n",
       "      <td>0.391087</td>\n",
       "      <td>-0.125067</td>\n",
       "      <td>0.192513</td>\n",
       "      <td>-0.366927</td>\n",
       "      <td>0.259293</td>\n",
       "      <td>-0.231101</td>\n",
       "      <td>0.470849</td>\n",
       "      <td>0.467437</td>\n",
       "      <td>1.000000</td>\n",
       "      <td>-0.164614</td>\n",
       "      <td>0.374802</td>\n",
       "      <td>-0.481376</td>\n",
       "    </tr>\n",
       "    <tr>\n",
       "      <th>black</th>\n",
       "      <td>-0.271619</td>\n",
       "      <td>-0.475796</td>\n",
       "      <td>0.168130</td>\n",
       "      <td>-0.335049</td>\n",
       "      <td>0.062029</td>\n",
       "      <td>-0.369416</td>\n",
       "      <td>0.155202</td>\n",
       "      <td>-0.268054</td>\n",
       "      <td>0.284374</td>\n",
       "      <td>-0.406405</td>\n",
       "      <td>-0.406477</td>\n",
       "      <td>-0.164614</td>\n",
       "      <td>1.000000</td>\n",
       "      <td>-0.356693</td>\n",
       "      <td>0.336660</td>\n",
       "    </tr>\n",
       "    <tr>\n",
       "      <th>lowerstatuspop</th>\n",
       "      <td>0.281953</td>\n",
       "      <td>0.532077</td>\n",
       "      <td>-0.388112</td>\n",
       "      <td>0.614155</td>\n",
       "      <td>-0.050055</td>\n",
       "      <td>0.598874</td>\n",
       "      <td>-0.615747</td>\n",
       "      <td>0.588834</td>\n",
       "      <td>-0.505939</td>\n",
       "      <td>0.484568</td>\n",
       "      <td>0.544485</td>\n",
       "      <td>0.374802</td>\n",
       "      <td>-0.356693</td>\n",
       "      <td>1.000000</td>\n",
       "      <td>-0.738600</td>\n",
       "    </tr>\n",
       "    <tr>\n",
       "      <th>medianvalue</th>\n",
       "      <td>-0.221694</td>\n",
       "      <td>-0.407454</td>\n",
       "      <td>0.344842</td>\n",
       "      <td>-0.473932</td>\n",
       "      <td>0.204390</td>\n",
       "      <td>-0.413054</td>\n",
       "      <td>0.689598</td>\n",
       "      <td>-0.358888</td>\n",
       "      <td>0.249422</td>\n",
       "      <td>-0.352251</td>\n",
       "      <td>-0.448078</td>\n",
       "      <td>-0.481376</td>\n",
       "      <td>0.336660</td>\n",
       "      <td>-0.738600</td>\n",
       "      <td>1.000000</td>\n",
       "    </tr>\n",
       "  </tbody>\n",
       "</table>\n",
       "</div>"
      ],
      "text/plain": [
       "                          ID  crimerate  pctbiglots  pctindustrialized  \\\n",
       "ID                  1.000000   0.456312   -0.155639           0.421978   \n",
       "crimerate           0.456312   1.000000   -0.210913           0.422228   \n",
       "pctbiglots         -0.155639  -0.210913    1.000000          -0.518679   \n",
       "pctindustrialized   0.421978   0.422228   -0.518679           1.000000   \n",
       "riverboolean        0.007958  -0.041195   -0.024442           0.037496   \n",
       "pollution           0.440185   0.463001   -0.501990           0.750087   \n",
       "roomsperhouse      -0.112790  -0.310180    0.328197          -0.440365   \n",
       "pctbuiltbefore1940  0.257300   0.379034   -0.544513           0.638378   \n",
       "distancetowork     -0.356461  -0.397067    0.637142          -0.702327   \n",
       "highwayaccess       0.707526   0.666636   -0.303663           0.569779   \n",
       "proptaxper10k       0.686246   0.617081   -0.311180           0.708313   \n",
       "puilteachratio      0.309838   0.313409   -0.380449           0.391087   \n",
       "black              -0.271619  -0.475796    0.168130          -0.335049   \n",
       "lowerstatuspop      0.281953   0.532077   -0.388112           0.614155   \n",
       "medianvalue        -0.221694  -0.407454    0.344842          -0.473932   \n",
       "\n",
       "                    riverboolean  pollution  roomsperhouse  \\\n",
       "ID                      0.007958   0.440185      -0.112790   \n",
       "crimerate              -0.041195   0.463001      -0.310180   \n",
       "pctbiglots             -0.024442  -0.501990       0.328197   \n",
       "pctindustrialized       0.037496   0.750087      -0.440365   \n",
       "riverboolean            1.000000   0.080275       0.112251   \n",
       "pollution               0.080275   1.000000      -0.338515   \n",
       "roomsperhouse           0.112251  -0.338515       1.000000   \n",
       "pctbuiltbefore1940      0.068286   0.736000      -0.248573   \n",
       "distancetowork         -0.081834  -0.769364       0.269191   \n",
       "highwayaccess           0.007714   0.612180      -0.272783   \n",
       "proptaxper10k          -0.021826   0.670722      -0.356987   \n",
       "puilteachratio         -0.125067   0.192513      -0.366927   \n",
       "black                   0.062029  -0.369416       0.155202   \n",
       "lowerstatuspop         -0.050055   0.598874      -0.615747   \n",
       "medianvalue             0.204390  -0.413054       0.689598   \n",
       "\n",
       "                    pctbuiltbefore1940  distancetowork  highwayaccess  \\\n",
       "ID                            0.257300       -0.356461       0.707526   \n",
       "crimerate                     0.379034       -0.397067       0.666636   \n",
       "pctbiglots                   -0.544513        0.637142      -0.303663   \n",
       "pctindustrialized             0.638378       -0.702327       0.569779   \n",
       "riverboolean                  0.068286       -0.081834       0.007714   \n",
       "pollution                     0.736000       -0.769364       0.612180   \n",
       "roomsperhouse                -0.248573        0.269191      -0.272783   \n",
       "pctbuiltbefore1940            1.000000       -0.764208       0.447380   \n",
       "distancetowork               -0.764208        1.000000      -0.477610   \n",
       "highwayaccess                 0.447380       -0.477610       1.000000   \n",
       "proptaxper10k                 0.511893       -0.529539       0.903562   \n",
       "puilteachratio                0.259293       -0.231101       0.470849   \n",
       "black                        -0.268054        0.284374      -0.406405   \n",
       "lowerstatuspop                0.588834       -0.505939       0.484568   \n",
       "medianvalue                  -0.358888        0.249422      -0.352251   \n",
       "\n",
       "                    proptaxper10k  puilteachratio     black  lowerstatuspop  \\\n",
       "ID                       0.686246        0.309838 -0.271619        0.281953   \n",
       "crimerate                0.617081        0.313409 -0.475796        0.532077   \n",
       "pctbiglots              -0.311180       -0.380449  0.168130       -0.388112   \n",
       "pctindustrialized        0.708313        0.391087 -0.335049        0.614155   \n",
       "riverboolean            -0.021826       -0.125067  0.062029       -0.050055   \n",
       "pollution                0.670722        0.192513 -0.369416        0.598874   \n",
       "roomsperhouse           -0.356987       -0.366927  0.155202       -0.615747   \n",
       "pctbuiltbefore1940       0.511893        0.259293 -0.268054        0.588834   \n",
       "distancetowork          -0.529539       -0.231101  0.284374       -0.505939   \n",
       "highwayaccess            0.903562        0.470849 -0.406405        0.484568   \n",
       "proptaxper10k            1.000000        0.467437 -0.406477        0.544485   \n",
       "puilteachratio           0.467437        1.000000 -0.164614        0.374802   \n",
       "black                   -0.406477       -0.164614  1.000000       -0.356693   \n",
       "lowerstatuspop           0.544485        0.374802 -0.356693        1.000000   \n",
       "medianvalue             -0.448078       -0.481376  0.336660       -0.738600   \n",
       "\n",
       "                    medianvalue  \n",
       "ID                    -0.221694  \n",
       "crimerate             -0.407454  \n",
       "pctbiglots             0.344842  \n",
       "pctindustrialized     -0.473932  \n",
       "riverboolean           0.204390  \n",
       "pollution             -0.413054  \n",
       "roomsperhouse          0.689598  \n",
       "pctbuiltbefore1940    -0.358888  \n",
       "distancetowork         0.249422  \n",
       "highwayaccess         -0.352251  \n",
       "proptaxper10k         -0.448078  \n",
       "puilteachratio        -0.481376  \n",
       "black                  0.336660  \n",
       "lowerstatuspop        -0.738600  \n",
       "medianvalue            1.000000  "
      ]
     },
     "execution_count": 158,
     "metadata": {},
     "output_type": "execute_result"
    }
   ],
   "source": [
    "corr"
   ]
  },
  {
   "cell_type": "markdown",
   "metadata": {},
   "source": [
    "After looking at the correlation, I moved to the next step, which is to compute the confidence interval."
   ]
  },
  {
   "cell_type": "markdown",
   "metadata": {},
   "source": [
    "## Probability Mass Function\n",
    "\n",
    "Performing a Probability Mass Function to compare the two slices of the data set."
   ]
  },
  {
   "cell_type": "code",
   "execution_count": 159,
   "metadata": {},
   "outputs": [],
   "source": [
    "#I am slicing the lowerstatus pop variable into two sets based on the percent of lower status pop at ten percent.\n",
    "pmf_lowerstatus = housing.medianvalue[housing['lowerstatuspop'] >= 10]\n",
    "pmf_higherstatus = housing.medianvalue[housing['lowerstatuspop'] < 10]\n",
    "\n",
    "pmf_lowerstatus = pmf_lowerstatus.astype(float)"
   ]
  },
  {
   "cell_type": "code",
   "execution_count": 160,
   "metadata": {},
   "outputs": [
    {
     "data": {
      "image/png": "[encoded data removed]",
      "text/plain": [
       "<Figure size 432x288 with 1 Axes>"
      ]
     },
     "metadata": {
      "needs_background": "light"
     },
     "output_type": "display_data"
    }
   ],
   "source": [
    "bins = 50\n",
    "\n",
    "matplotlib.pyplot.hist(pmf_higherstatus, bins, alpha = 0.5, label = 'less than 10% lower status')\n",
    "matplotlib.pyplot.hist(pmf_lowerstatus, bins, alpha = 0.5, label = '>= 10% lower status')\n",
    "matplotlib.pyplot.legend(loc = 'upper right')\n",
    "matplotlib.pyplot.show()"
   ]
  },
  {
   "cell_type": "markdown",
   "metadata": {},
   "source": [
    "## Cumulative Distribution Function\n",
    "\n",
    "A CDF of the student to teacher ratio."
   ]
  },
  {
   "cell_type": "code",
   "execution_count": 161,
   "metadata": {},
   "outputs": [
    {
     "data": {
      "image/png": "[encoded data removed]",
      "text/plain": [
       "<Figure size 432x288 with 1 Axes>"
      ]
     },
     "metadata": {
      "needs_background": "light"
     },
     "output_type": "display_data"
    },
    {
     "data": {
      "text/plain": [
       "<Figure size 576x432 with 0 Axes>"
      ]
     },
     "metadata": {},
     "output_type": "display_data"
    }
   ],
   "source": [
    "cdf = thinkstats2.Cdf(housing.puilteachratio)\n",
    "thinkplot.Cdf(cdf)\n",
    "thinkplot.Show(xlabel = 'Students to Teachers', ylabel = 'CDF')"
   ]
  },
  {
   "cell_type": "markdown",
   "metadata": {},
   "source": [
    "## Analytical Distribution\n",
    "\n",
    "Looking at the bedrooms per house with the normal probability plot.\n"
   ]
  },
  {
   "cell_type": "code",
   "execution_count": 162,
   "metadata": {},
   "outputs": [],
   "source": [
    "def MakeNormalPlot(weights):\n",
    "    mean = weights.mean()\n",
    "    std = weights.std()\n",
    "    xs = -2, 2\n",
    "    fxs, fys = thinkstats2.FitLine(xs, inter = mean, slope = std)\n",
    "    thinkplot.Plot(fxs, fys, color = 'black', label = 'model')\n",
    "    xs,ys = thinkstats2.NormalProbability(weights)\n",
    "    thinkplot.Plot(xs,ys, label = 'Bedrooms per House')"
   ]
  },
  {
   "cell_type": "code",
   "execution_count": 163,
   "metadata": {},
   "outputs": [
    {
     "data": {
      "image/png": "[encoded data removed]",
      "text/plain": [
       "<Figure size 432x288 with 1 Axes>"
      ]
     },
     "metadata": {
      "needs_background": "light"
     },
     "output_type": "display_data"
    }
   ],
   "source": [
    "MakeNormalPlot(housing.roomsperhouse)"
   ]
  },
  {
   "cell_type": "markdown",
   "metadata": {},
   "source": [
    "## Scatter Plots\n",
    "\n",
    "Looking at the Relationship between 2 variables that includes the median value, lower status population, rooms per house, pupils to teacher and industrialized. "
   ]
  },
  {
   "cell_type": "code",
   "execution_count": 164,
   "metadata": {},
   "outputs": [
    {
     "data": {
      "image/png": "[encoded data removed]",
      "text/plain": [
       "<Figure size 432x288 with 1 Axes>"
      ]
     },
     "metadata": {
      "needs_background": "light"
     },
     "output_type": "display_data"
    },
    {
     "data": {
      "text/plain": [
       "<Figure size 576x432 with 0 Axes>"
      ]
     },
     "metadata": {},
     "output_type": "display_data"
    }
   ],
   "source": [
    "thinkplot.Scatter(housing.medianvalue, housing.lowerstatuspop)\n",
    "thinkplot.Show(xlabel = 'Median Home Value', ylabel = 'Pct Lower Status Population')"
   ]
  },
  {
   "cell_type": "code",
   "execution_count": 165,
   "metadata": {},
   "outputs": [
    {
     "data": {
      "image/png": "[encoded data removed]",
      "text/plain": [
       "<Figure size 432x288 with 1 Axes>"
      ]
     },
     "metadata": {
      "needs_background": "light"
     },
     "output_type": "display_data"
    },
    {
     "data": {
      "text/plain": [
       "<Figure size 576x432 with 0 Axes>"
      ]
     },
     "metadata": {},
     "output_type": "display_data"
    }
   ],
   "source": [
    "thinkplot.Scatter(housing.medianvalue, housing.roomsperhouse)\n",
    "thinkplot.Show(xlabel = 'Median Home Value', ylabel = 'Bedrooms Per House')"
   ]
  },
  {
   "cell_type": "code",
   "execution_count": 166,
   "metadata": {},
   "outputs": [
    {
     "data": {
      "image/png": "[encoded data removed]",
      "text/plain": [
       "<Figure size 432x288 with 1 Axes>"
      ]
     },
     "metadata": {
      "needs_background": "light"
     },
     "output_type": "display_data"
    },
    {
     "data": {
      "text/plain": [
       "<Figure size 576x432 with 0 Axes>"
      ]
     },
     "metadata": {},
     "output_type": "display_data"
    }
   ],
   "source": [
    "thinkplot.Scatter(housing.medianvalue, housing.puilteachratio)\n",
    "thinkplot.Show(xlabel = 'Median Home Value', ylabel = 'Students to Teacher')"
   ]
  },
  {
   "cell_type": "code",
   "execution_count": 167,
   "metadata": {},
   "outputs": [
    {
     "data": {
      "image/png": "[encoded data removed]",
      "text/plain": [
       "<Figure size 432x288 with 1 Axes>"
      ]
     },
     "metadata": {
      "needs_background": "light"
     },
     "output_type": "display_data"
    },
    {
     "data": {
      "text/plain": [
       "<Figure size 576x432 with 0 Axes>"
      ]
     },
     "metadata": {},
     "output_type": "display_data"
    }
   ],
   "source": [
    "thinkplot.Scatter(housing.medianvalue, housing.pctindustrialized)\n",
    "thinkplot.Show(xlabel = 'Median Home Value', ylabel = 'PCT Industrialized')"
   ]
  },
  {
   "cell_type": "markdown",
   "metadata": {},
   "source": [
    "## Hypothesis Testing \n",
    "\n",
    "Correlation Test Hypothesis"
   ]
  },
  {
   "cell_type": "code",
   "execution_count": 168,
   "metadata": {},
   "outputs": [],
   "source": [
    "class CorrelationPermute(thinkstats2.HypothesisTest):\n",
    "\n",
    "    def TestStatistic(self, data):\n",
    "        xs, ys = data\n",
    "        test_stat = abs(thinkstats2.Corr(xs, ys))\n",
    "        return test_stat\n",
    "\n",
    "    def RunModel(self):\n",
    "        xs, ys = self.data\n",
    "        xs = np.random.permutation(xs)\n",
    "        return xs, ys\n"
   ]
  },
  {
   "cell_type": "code",
   "execution_count": 169,
   "metadata": {},
   "outputs": [
    {
     "data": {
      "text/plain": [
       "0.0"
      ]
     },
     "execution_count": 169,
     "metadata": {},
     "output_type": "execute_result"
    }
   ],
   "source": [
    "#I will split the data into two columns that I want to test for this hypothesis.\n",
    "data = housing.medianvalue.values, housing.lowerstatuspop.values\n",
    "\n",
    "ht = CorrelationPermute(data)\n",
    "ht.PValue()\n"
   ]
  },
  {
   "cell_type": "markdown",
   "metadata": {},
   "source": [
    "## Regression Analysis\n",
    "\n",
    "This regression analysis will use the median value variable to predict. I will use the rooms per house, lower status pop, pupils to teacher ratio and industrialized as exploratory variables."
   ]
  },
  {
   "cell_type": "code",
   "execution_count": 170,
   "metadata": {},
   "outputs": [
    {
     "data": {
      "text/plain": [
       "LinearRegression(copy_X=True, fit_intercept=True, n_jobs=None,\n",
       "         normalize=False)"
      ]
     },
     "execution_count": 170,
     "metadata": {},
     "output_type": "execute_result"
    }
   ],
   "source": [
    "from sklearn.model_selection import train_test_split\n",
    "from sklearn.linear_model import LinearRegression\n",
    "\n",
    "y = housing['medianvalue'] #The median value is used for predicting.\n",
    "x = housing[['roomsperhouse', 'lowerstatuspop', 'puilteachratio', 'pctindustrialized']] #These are the explanatory variables.\n",
    "\n",
    "X_train, X_test, y_train, y_test = train_test_split(x,y,test_size = 0.20, random_state = 0) #We are splitting the data 80/20.\n",
    "\n",
    "model = LinearRegression()\n",
    "model.fit(X_train,y_train)"
   ]
  },
  {
   "cell_type": "markdown",
   "metadata": {},
   "source": [
    "Then we will make a column called coefficient and look at the coefficients of the exploratory variables."
   ]
  },
  {
   "cell_type": "code",
   "execution_count": 172,
   "metadata": {},
   "outputs": [
    {
     "data": {
      "text/html": [
       "<div>\n",
       "<style scoped>\n",
       "    .dataframe tbody tr th:only-of-type {\n",
       "        vertical-align: middle;\n",
       "    }\n",
       "\n",
       "    .dataframe tbody tr th {\n",
       "        vertical-align: top;\n",
       "    }\n",
       "\n",
       "    .dataframe thead th {\n",
       "        text-align: right;\n",
       "    }\n",
       "</style>\n",
       "<table border=\"1\" class=\"dataframe\">\n",
       "  <thead>\n",
       "    <tr style=\"text-align: right;\">\n",
       "      <th></th>\n",
       "      <th>Coefficient</th>\n",
       "    </tr>\n",
       "  </thead>\n",
       "  <tbody>\n",
       "    <tr>\n",
       "      <th>roomsperhouse</th>\n",
       "      <td>3.790591</td>\n",
       "    </tr>\n",
       "    <tr>\n",
       "      <th>lowerstatuspop</th>\n",
       "      <td>-0.661859</td>\n",
       "    </tr>\n",
       "    <tr>\n",
       "      <th>puilteachratio</th>\n",
       "      <td>-0.773254</td>\n",
       "    </tr>\n",
       "    <tr>\n",
       "      <th>pctindustrialized</th>\n",
       "      <td>0.071634</td>\n",
       "    </tr>\n",
       "  </tbody>\n",
       "</table>\n",
       "</div>"
      ],
      "text/plain": [
       "                   Coefficient\n",
       "roomsperhouse         3.790591\n",
       "lowerstatuspop       -0.661859\n",
       "puilteachratio       -0.773254\n",
       "pctindustrialized     0.071634"
      ]
     },
     "execution_count": 172,
     "metadata": {},
     "output_type": "execute_result"
    }
   ],
   "source": [
    "coeff_df = pd.DataFrame(model.coef_, x.columns, columns = ['Coefficient'])  \n",
    "coeff_df  "
   ]
  },
  {
   "cell_type": "code",
   "execution_count": null,
   "metadata": {},
   "outputs": [],
   "source": []
  }
 ],
 "metadata": {
  "kernelspec": {
   "display_name": "Python 3",
   "language": "python",
   "name": "python3"
  },
  "language_info": {
   "codemirror_mode": {
    "name": "ipython",
    "version": 3
   },
   "file_extension": ".py",
   "mimetype": "text/x-python",
   "name": "python",
   "nbconvert_exporter": "python",
   "pygments_lexer": "ipython3",
   "version": "3.7.3"
  }
 },
 "nbformat": 4,
 "nbformat_minor": 2
}
